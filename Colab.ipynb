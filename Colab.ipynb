{
  "nbformat": 4,
  "nbformat_minor": 0,
  "metadata": {
    "colab": {
      "name": "Colab.ipynb",
      "provenance": [],
      "collapsed_sections": [],
      "authorship_tag": "ABX9TyML1KNqdW7TQmW+O3yxp/55",
      "include_colab_link": true
    },
    "kernelspec": {
      "name": "python3",
      "display_name": "Python 3"
    },
    "language_info": {
      "name": "python"
    }
  },
  "cells": [
    {
      "cell_type": "markdown",
      "metadata": {
        "id": "view-in-github",
        "colab_type": "text"
      },
      "source": [
        "<a href=\"https://colab.research.google.com/github/kpdebata/python_bootcamp/blob/main/Colab.ipynb\" target=\"_parent\"><img src=\"https://colab.research.google.com/assets/colab-badge.svg\" alt=\"Open In Colab\"/></a>"
      ]
    },
    {
      "cell_type": "code",
      "metadata": {
        "id": "AXkIOFenBtUT"
      },
      "source": [
        "import requests"
      ],
      "execution_count": null,
      "outputs": []
    },
    {
      "cell_type": "code",
      "metadata": {
        "id": "for-M5leB-XY",
        "colab": {
          "base_uri": "https://localhost:8080/"
        },
        "outputId": "3b27ad8b-5d6a-49ee-8f37-f3014f37860c"
      },
      "source": [
        "import requests\n",
        "#request is a type of object called  file/object/module and get is a member/method of the file/object\n",
        "response = requests.get('https://uselessfacts.jsph.pl/random.json')\n",
        "#url is the argument\n",
        "#response is a variable which will store  the data from requests.get\n",
        "print(response.text)\n",
        "#text is a property contains value , like a variable attached to an object\n",
        "response = requests.get('https://uselessfacts.jsph.pl/random.json?language=en')\n",
        "#above response with a query parameter language=en\n",
        "print(response.text)"
      ],
      "execution_count": null,
      "outputs": [
        {
          "output_type": "stream",
          "text": [
            "{\"id\":\"482307d7-f1e7-4798-89b7-995cae338007\",\"text\":\"If you have three quarters, four dimes, and four pennies, you have $1.19, the largest amount of money in coins without being able to make change for a dollar.\",\"source\":\"djtech.net\",\"source_url\":\"http:\\/\\/www.djtech.net\\/humor\\/useless_facts.htm\",\"language\":\"en\",\"permalink\":\"https:\\/\\/uselessfacts.jsph.pl\\/482307d7-f1e7-4798-89b7-995cae338007\"}\n",
            "{\"id\":\"809c485d-be64-4ec8-a59c-f8e55f859e9d\",\"text\":\"Dr. Jack Kevorkian first patient has Alzheimer`s disease.\",\"source\":\"djtech.net\",\"source_url\":\"http:\\/\\/www.djtech.net\\/humor\\/useless_facts.htm\",\"language\":\"en\",\"permalink\":\"https:\\/\\/uselessfacts.jsph.pl\\/809c485d-be64-4ec8-a59c-f8e55f859e9d\"}\n"
          ],
          "name": "stdout"
        }
      ]
    },
    {
      "cell_type": "code",
      "metadata": {
        "colab": {
          "base_uri": "https://localhost:8080/"
        },
        "id": "h2QdASV2RyC8",
        "outputId": "e15ac8ed-7502-4eed-ff74-9d349d99e387"
      },
      "source": [
        "#passing query parameter thru a dictionary\n",
        "query_parameters={\n",
        "    'language':'en'\n",
        "}\n",
        "\n",
        "response = requests.get('https://uselessfacts.jsph.pl/random.json',params=query_parameters)\n",
        "print(response.text)\n",
        "\n",
        "#print(type(response.text)) = str\n"
      ],
      "execution_count": null,
      "outputs": [
        {
          "output_type": "stream",
          "text": [
            "{\"id\":\"58681a7e-22e5-46ff-882f-baa1b11bbd49\",\"text\":\"You can sail all the way around the world at latitude 60 degrees south.\",\"source\":\"djtech.net\",\"source_url\":\"http:\\/\\/www.djtech.net\\/humor\\/useless_facts.htm\",\"language\":\"en\",\"permalink\":\"https:\\/\\/uselessfacts.jsph.pl\\/58681a7e-22e5-46ff-882f-baa1b11bbd49\"}\n"
          ],
          "name": "stdout"
        }
      ]
    },
    {
      "cell_type": "code",
      "metadata": {
        "colab": {
          "base_uri": "https://localhost:8080/"
        },
        "id": "D140fRa1kC7T",
        "outputId": "97ae4551-d756-4109-a97b-0ba481cc7100"
      },
      "source": [
        "# print(type(response.json())) - dict\n",
        "print(response.json())\n",
        "print(response.json().get('text'))\n"
      ],
      "execution_count": null,
      "outputs": [
        {
          "output_type": "stream",
          "text": [
            "{'id': '58681a7e-22e5-46ff-882f-baa1b11bbd49', 'text': 'You can sail all the way around the world at latitude 60 degrees south.', 'source': 'djtech.net', 'source_url': 'http://www.djtech.net/humor/useless_facts.htm', 'language': 'en', 'permalink': 'https://uselessfacts.jsph.pl/58681a7e-22e5-46ff-882f-baa1b11bbd49'}\n",
            "You can sail all the way around the world at latitude 60 degrees south.\n"
          ],
          "name": "stdout"
        }
      ]
    },
    {
      "cell_type": "code",
      "metadata": {
        "colab": {
          "base_uri": "https://localhost:8080/"
        },
        "id": "2_1uKQoTrwkh",
        "outputId": "dea95011-d31f-4e5e-cc25-e97a6c589c3f"
      },
      "source": [
        "data = ['a','b','c','d','e']\n",
        "'''\n",
        "for i in range(len(data)):\n",
        "  print(data[i],end = \" \")\n",
        "\n",
        "print(\"\")\n",
        "for i in data:\n",
        "  print(i,end = \" \")\n",
        "'''\n",
        "for i, letter in enumerate(data):\n",
        "  print(i, letter, end = \" \")"
      ],
      "execution_count": null,
      "outputs": [
        {
          "output_type": "stream",
          "text": [
            "0 a 1 b 2 c 3 d 4 e "
          ],
          "name": "stdout"
        }
      ]
    },
    {
      "cell_type": "code",
      "metadata": {
        "colab": {
          "base_uri": "https://localhost:8080/"
        },
        "id": "Fg-lKHox8xB6",
        "outputId": "1ca1590e-fff2-483a-8320-81f037e3adfa"
      },
      "source": [
        "data = ['a','b','c','d','e']\n",
        "i = 0\n",
        "while i < len(data):\n",
        "  print(data[i],end =\" \")\n",
        "  i += 1\n",
        "while True:\n",
        "  x = input()\n",
        "  if x == 'stop':\n",
        "    break\n",
        "  elif x == 'start':\n",
        "    continue"
      ],
      "execution_count": null,
      "outputs": [
        {
          "output_type": "stream",
          "text": [
            "a b c d e start\n",
            "stop\n"
          ],
          "name": "stdout"
        }
      ]
    },
    {
      "cell_type": "code",
      "metadata": {
        "colab": {
          "base_uri": "https://localhost:8080/"
        },
        "id": "tk21eTyC8x3Z",
        "outputId": "2846a9f4-6d70-4e5c-a807-c521050161a6"
      },
      "source": [
        "data_dictionary = {\n",
        "    'krush': 1,\n",
        "    'raj' :2 ,\n",
        "    'prem': 3,\n",
        "    'kishore':4,\n",
        "    'prem':5\n",
        "}\n",
        "\n",
        "print(data_dictionary)\n",
        "print(data_dictionary.get('prem'))\n",
        "\n",
        "for key,value in data_dictionary.items():\n",
        "  if value == 5:\n",
        "    print('this is an updated key: ' +str(key) +' for which the value is: ' +str(value))"
      ],
      "execution_count": null,
      "outputs": [
        {
          "output_type": "stream",
          "text": [
            "{'krush': 1, 'raj': 2, 'prem': 5, 'kishore': 4}\n",
            "5\n",
            "this is an updated key: prem for which the value is: 5\n"
          ],
          "name": "stdout"
        }
      ]
    },
    {
      "cell_type": "markdown",
      "metadata": {
        "id": "-ynXjxB4HY-e"
      },
      "source": [
        "Do while loop make sure you run the code atleast once. in  our case we are getting the input fom user atleast once"
      ]
    },
    {
      "cell_type": "code",
      "metadata": {
        "colab": {
          "base_uri": "https://localhost:8080/"
        },
        "id": "AWm0DsW7FAyb",
        "outputId": "40c04f86-f3c4-462d-8fed-f2e0b49b5037"
      },
      "source": [
        "import random\n",
        "low = 0\n",
        "high = 100\n",
        "correct = random.randint(low,high)\n",
        "i=0\n",
        "print('You can guess only 5 times')\n",
        "while i < 5:\n",
        "  i += 1\n",
        "  guess = int(input())\n",
        "  if guess < correct and i < 5:\n",
        "    print('Think Higher')\n",
        "  elif guess > correct and i < 5: \n",
        "    print('Think Lower')\n",
        "  else:\n",
        "    print('you win')\n",
        "    break\n",
        "if i == 5 and guess != correct:\n",
        "  print('You did not guess it correct')\n"
      ],
      "execution_count": null,
      "outputs": [
        {
          "output_type": "stream",
          "text": [
            "You can guess only 5 times\n",
            "10\n",
            "Think Higher\n",
            "20\n",
            "Think Higher\n",
            "30\n",
            "Think Higher\n",
            "40\n",
            "Think Higher\n",
            "50\n",
            "you win\n",
            "You did not guess it correct\n"
          ],
          "name": "stdout"
        }
      ]
    },
    {
      "cell_type": "code",
      "metadata": {
        "id": "GX0NOrVkHPYm"
      },
      "source": [
        ""
      ],
      "execution_count": null,
      "outputs": []
    }
  ]
}